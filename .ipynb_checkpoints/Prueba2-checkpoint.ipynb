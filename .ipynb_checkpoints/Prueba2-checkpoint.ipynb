{
 "cells": [
  {
   "cell_type": "code",
   "execution_count": 1,
   "id": "2b73188f",
   "metadata": {},
   "outputs": [],
   "source": [
    "import matplotlib.pyplot as plt\n",
    "import numpy as np\n",
    "import sympy as sp\n",
    "x = sp.Symbol('x')\n",
    "import ipywidgets as ip\n",
    "from ipywidgets import interact\n",
    "from ipywidgets import widgets"
   ]
  },
  {
   "cell_type": "code",
   "execution_count": 2,
   "id": "7a123721",
   "metadata": {},
   "outputs": [
    {
     "data": {
      "application/vnd.jupyter.widget-view+json": {
       "model_id": "52f265a4c528472cbe1b8e9ca5b3eced",
       "version_major": 2,
       "version_minor": 0
      },
      "text/plain": [
       "IntSlider(value=5, description=' Volmin (L) =', max=10, min=2)"
      ]
     },
     "metadata": {},
     "output_type": "display_data"
    },
    {
     "data": {
      "application/vnd.jupyter.widget-view+json": {
       "model_id": "a4a0eee90da44a72b6817b26090ea2cc",
       "version_major": 2,
       "version_minor": 0
      },
      "text/plain": [
       "IntSlider(value=3, description=' Volmax (L) =', max=20, min=2)"
      ]
     },
     "metadata": {},
     "output_type": "display_data"
    },
    {
     "data": {
      "application/vnd.jupyter.widget-view+json": {
       "model_id": "563012eb37dc420382d851ecdf634d57",
       "version_major": 2,
       "version_minor": 0
      },
      "text/plain": [
       "Output()"
      ]
     },
     "metadata": {},
     "output_type": "display_data"
    },
    {
     "data": {
      "application/vnd.jupyter.widget-view+json": {
       "model_id": "cac5767176284636a367b2ffd1a43785",
       "version_major": 2,
       "version_minor": 0
      },
      "text/plain": [
       "Output()"
      ]
     },
     "metadata": {},
     "output_type": "display_data"
    },
    {
     "data": {
      "application/vnd.jupyter.widget-view+json": {
       "model_id": "ea5b8e7ac24044ebad6f21bedaa2db27",
       "version_major": 2,
       "version_minor": 0
      },
      "text/plain": [
       "Output()"
      ]
     },
     "metadata": {},
     "output_type": "display_data"
    },
    {
     "data": {
      "application/vnd.jupyter.widget-view+json": {
       "model_id": "c41efe8386934657bbb7ed9338d0093f",
       "version_major": 2,
       "version_minor": 0
      },
      "text/plain": [
       "Output()"
      ]
     },
     "metadata": {},
     "output_type": "display_data"
    }
   ],
   "source": [
    "volmin = widgets.IntSlider(description=' Volmin (L) =',value=5, min=2, max=10)\n",
    "volmax = widgets.IntSlider(description=' Volmax (L) =',value=3, min=2, max=20)\n",
    "\n",
    "def trabajo (volmin,volmax):\n",
    "    trabajoinf=2478.8191*sp.log(volmin).evalf()\n",
    "    trabajosup=2478.8191*sp.log(volmax).evalf()\n",
    "    trabajo = (trabajosup-trabajoinf).evalf()\n",
    "    calor = -trabajo\n",
    "    energia = {\"trabajo\":trabajo,\"calor\":calor}\n",
    "    magnitud = list(energia.values())\n",
    "    tipo = list(energia.keys())\n",
    "    plt.bar(tipo, magnitud, width=0.8)\n",
    "    plt.ylim(ymax=4000, ymin=-4000)\n",
    "    display(trabajosup-trabajoinf)\n",
    "\n",
    "def f2(volmin,volmax):\n",
    "    x = np.linspace(0,20,500)\n",
    "    ec=8.314*298.15/x\n",
    "    plt.plot(x,ec)\n",
    "    plt.ylim(0, 1000)\n",
    "    graf1 = plt.fill_between(x,ec, where =[(x>volmin) and (x<volmax) for x in x])\n",
    "    graf2 = plt.fill_between(x,ec, where =[(x>volmax) and (x<volmin) for x in x])\n",
    "    if volmin<volmax:\n",
    "        display(graf1)\n",
    "    else:\n",
    "        display(graf2)\n",
    "        \n",
    "def cilindro(volmin):\n",
    "    x= np.array([5,6,7,8])\n",
    "    y= np.array([volmin,volmin,volmin,volmin])\n",
    "    plt.plot(x,y,color='black')\n",
    "    plt.fill_between(x,y, alpha=0.25)\n",
    "    a= np.array([5,5,5])\n",
    "    b= np.array([0,8,13])\n",
    "    plt.plot(a, b, color='black')\n",
    "    z= np.array([8,8,8])\n",
    "    w= np.array([0,8,13])\n",
    "    plt.plot(z, w, color='black')\n",
    "    plt.xlim(xmin=0, xmax=13)\n",
    "    plt.ylim(ymin=0, ymax=20)\n",
    "    plt.ylabel(\"Volumen (L)\")\n",
    "    graf3 = plt.show()\n",
    "    display(graf3)\n",
    "    \n",
    "def cilindro2(volmax):\n",
    "    x= np.array([5,6,7,8])\n",
    "    y= np.array([volmax,volmax,volmax,volmax])\n",
    "    plt.plot(x,y,color='black')\n",
    "    plt.fill_between(x,y, alpha=0.25)\n",
    "    a= np.array([5,5,5])\n",
    "    b= np.array([0,8,13])\n",
    "    plt.plot(a, b, color='black')\n",
    "    z= np.array([8,8,8])\n",
    "    w= np.array([0,8,13])\n",
    "    plt.plot(z, w, color='black')\n",
    "    plt.xlim(xmin=0, xmax=13)\n",
    "    plt.ylim(ymin=0, ymax=20)\n",
    "    plt.ylabel(\"Volumen (L)\")\n",
    "    graf4 = plt.show()\n",
    "    display(graf4)\n",
    "    \n",
    "out1 = widgets.interactive_output(trabajo, {'volmin': volmin,'volmax': volmax})\n",
    "out2 = widgets.interactive_output(f2, {'volmin': volmin,'volmax': volmax})\n",
    "out3 = widgets.interactive_output(cilindro, {'volmin': volmin})\n",
    "out4 = widgets.interactive_output(cilindro2, {'volmax': volmax})\n",
    "\n",
    "display(volmin)\n",
    "display(volmax)\n",
    "display(out1)\n",
    "display(out2)\n",
    "display(out3)\n",
    "display(out4)"
   ]
  },
  {
   "cell_type": "code",
   "execution_count": 1,
   "id": "3533bcf5-f7ec-454a-8525-323d8a1fbe2b",
   "metadata": {},
   "outputs": [],
   "source": [
    "!pip freeze > requirements.txt"
   ]
  },
  {
   "cell_type": "code",
   "execution_count": null,
   "id": "b23c94e6-83c0-4dab-98b0-8f7f0c5f6177",
   "metadata": {},
   "outputs": [],
   "source": []
  }
 ],
 "metadata": {
  "celltoolbar": "Hide code",
  "kernelspec": {
   "display_name": "Python 3 (ipykernel)",
   "language": "python",
   "name": "python3"
  },
  "language_info": {
   "codemirror_mode": {
    "name": "ipython",
    "version": 3
   },
   "file_extension": ".py",
   "mimetype": "text/x-python",
   "name": "python",
   "nbconvert_exporter": "python",
   "pygments_lexer": "ipython3",
   "version": "3.11.7"
  }
 },
 "nbformat": 4,
 "nbformat_minor": 5
}
